{
 "cells": [
  {
   "cell_type": "markdown",
   "metadata": {},
   "source": [
    "<center><div style=\"direction:rtl;font-family:B Lotus, B Nazanin, Tahoma\">به نام خدا</div></center>\n",
    "<h1><center><div style=\"direction:rtl;font-family:B Lotus, B Nazanin, Tahoma\">آموزش یک شبکه عصبی کانولوشنالی از ابتدا</div></center></h1>"
   ]
  },
  {
   "cell_type": "code",
   "execution_count": 1,
   "metadata": {},
   "outputs": [
    {
     "name": "stderr",
     "output_type": "stream",
     "text": [
      "Using TensorFlow backend.\n"
     ]
    }
   ],
   "source": [
    "import keras\n"
   ]
  },
  {
   "cell_type": "markdown",
   "metadata": {},
   "source": [
    "# <div style=\"direction:rtl;text-align:right;font-family:B Lotus, B Nazanin, Tahoma\">آموزش یک شبکه عصبی کانولوشنالی از ابتدا</div>\n",
    "\n",
    "<div style=\"direction:rtl;text-align:right;font-family:Tahoma\">\n",
    "کدها  برگرفته از فصل دو کتاب\n",
    "</div>\n",
    "\n",
    "[Deep Learning with Python](https://www.manning.com/books/deep-learning-with-python?a_aid=keras&a_bid=76564dff)\n",
    "<div style=\"direction:rtl;text-align:right;font-family:Tahoma\">\n",
    "و گیت هاب نویسنده کتاب و توسعه دهنده کراس \n",
    "</div>\n",
    "\n",
    "[François Chollet](http://nbviewer.jupyter.org/github/fchollet/deep-learning-with-python-notebooks/blob/master/5.2-using-convnets-with-small-datasets.ipynb)\n",
    "<div style=\"direction:rtl;text-align:right;font-family:Tahoma\">\n",
    "است.\n",
    "</div>\n"
   ]
  },
  {
   "cell_type": "markdown",
   "metadata": {},
   "source": [
    "# <div style=\"direction:rtl;text-align:right;font-family:B Lotus, B Nazanin, Tahoma\">مجموعه داده</div>\n",
    "\n",
    "<div style=\"direction:rtl;text-align:right;font-family:Tahoma\">\n",
    "مجموعه داده گربه در مقابل سگ برای این مثال استفاده شده است. این مجموعه داده در چالش بینایی کامپیوتر اواخر سال ۲۰۱۳ توسط سایت Kaggle.com در دسترس عموم قرار گرفت.\n",
    "<br>\n",
    "از قبل از سال ۲۰۱۳ استفاده از شبکه های کانولوشنالی خیلی رایج نبود.\n",
    "مجموعه داده در آدرس زیر قابل دانلود است.\n",
    "</div>\n",
    "\n",
    "`https://www.kaggle.com/c/dogs-vs-cats/data`\n",
    "\n",
    "\n",
    "\n",
    "![cats_vs_dogs_samples](https://s3.amazonaws.com/book.keras.io/img/ch5/cats_vs_dogs_samples.jpg)"
   ]
  },
  {
   "cell_type": "markdown",
   "metadata": {},
   "source": [
    "Unsurprisingly, the cats vs. dogs Kaggle competition in 2013 was won by entrants who used convnets. The best entries could achieve up to \n",
    "95% accuracy. In our own example, we will get fairly close to this accuracy (in the next section), even though we will be training our \n",
    "models on less than 10% of the data that was available to the competitors.\n",
    "This original dataset contains 25,000 images of dogs and cats (12,500 from each class) and is 543MB large (compressed). After downloading \n",
    "and uncompressing it, we will create a new dataset containing three subsets: a training set with 1000 samples of each class, a validation \n",
    "set with 500 samples of each class, and finally a test set with 500 samples of each class.\n",
    "\n",
    "Here are a few lines of code to do this:"
   ]
  },
  {
   "cell_type": "code",
   "execution_count": 2,
   "metadata": {},
   "outputs": [],
   "source": [
    "import os, shutil"
   ]
  },
  {
   "cell_type": "code",
   "execution_count": 4,
   "metadata": {},
   "outputs": [
    {
     "ename": "FileExistsError",
     "evalue": "[WinError 183] Cannot create a file when that file already exists: 'D:/dataset/catDog/catVsdog'",
     "output_type": "error",
     "traceback": [
      "\u001b[1;31m---------------------------------------------------------------------------\u001b[0m",
      "\u001b[1;31mFileExistsError\u001b[0m                           Traceback (most recent call last)",
      "\u001b[1;32m<ipython-input-4-5011628a73ec>\u001b[0m in \u001b[0;36m<module>\u001b[1;34m\u001b[0m\n\u001b[0;32m      6\u001b[0m \u001b[1;31m# store our smaller dataset\u001b[0m\u001b[1;33m\u001b[0m\u001b[1;33m\u001b[0m\u001b[0m\n\u001b[0;32m      7\u001b[0m \u001b[0mbase_dir\u001b[0m \u001b[1;33m=\u001b[0m \u001b[1;34m'D:/dataset/catDog/catVsdog'\u001b[0m\u001b[1;33m\u001b[0m\u001b[0m\n\u001b[1;32m----> 8\u001b[1;33m \u001b[0mos\u001b[0m\u001b[1;33m.\u001b[0m\u001b[0mmkdir\u001b[0m\u001b[1;33m(\u001b[0m\u001b[0mbase_dir\u001b[0m\u001b[1;33m)\u001b[0m\u001b[1;33m\u001b[0m\u001b[0m\n\u001b[0m\u001b[0;32m      9\u001b[0m \u001b[1;33m\u001b[0m\u001b[0m\n\u001b[0;32m     10\u001b[0m \u001b[1;31m# Directories for our training,\u001b[0m\u001b[1;33m\u001b[0m\u001b[1;33m\u001b[0m\u001b[0m\n",
      "\u001b[1;31mFileExistsError\u001b[0m: [WinError 183] Cannot create a file when that file already exists: 'D:/dataset/catDog/catVsdog'"
     ]
    }
   ],
   "source": [
    "# The path to the directory where the original\n",
    "# dataset was uncompressed\n",
    "original_dataset_dir = 'D:/dataset/catDog/train'\n",
    "\n",
    "# The directory where we will\n",
    "# store our smaller dataset\n",
    "base_dir = 'D:/dataset/catDog/catVsdog'\n",
    "os.mkdir(base_dir)\n",
    "\n",
    "# Directories for our training,\n",
    "# validation and test splits\n",
    "train_dir = os.path.join(base_dir, 'train')\n",
    "os.mkdir(train_dir)\n",
    "validation_dir = os.path.join(base_dir, 'validation')\n",
    "os.mkdir(validation_dir)\n",
    "test_dir = os.path.join(base_dir, 'test')\n",
    "os.mkdir(test_dir)\n",
    "\n",
    "# Directory with our training cat pictures\n",
    "train_cats_dir = os.path.join(train_dir, 'cats')\n",
    "os.mkdir(train_cats_dir)\n",
    "\n",
    "# Directory with our training dog pictures\n",
    "train_dogs_dir = os.path.join(train_dir, 'dogs')\n",
    "os.mkdir(train_dogs_dir)\n",
    "\n",
    "# Directory with our validation cat pictures\n",
    "validation_cats_dir = os.path.join(validation_dir, 'cats')\n",
    "os.mkdir(validation_cats_dir)\n",
    "\n",
    "# Directory with our validation dog pictures\n",
    "validation_dogs_dir = os.path.join(validation_dir, 'dogs')\n",
    "os.mkdir(validation_dogs_dir)\n",
    "\n",
    "# Directory with our validation cat pictures\n",
    "test_cats_dir = os.path.join(test_dir, 'cats')\n",
    "os.mkdir(test_cats_dir)\n",
    "\n",
    "# Directory with our validation dog pictures\n",
    "test_dogs_dir = os.path.join(test_dir, 'dogs')\n",
    "os.mkdir(test_dogs_dir)\n",
    "\n",
    "# Copy first 1000 cat images to train_cats_dir\n",
    "fnames = ['cat.{}.jpg'.format(i) for i in range(1000)]\n",
    "for fname in fnames:\n",
    "    src = os.path.join(original_dataset_dir, fname)\n",
    "    dst = os.path.join(train_cats_dir, fname)\n",
    "    shutil.copyfile(src, dst)\n",
    "\n",
    "# Copy next 500 cat images to validation_cats_dir\n",
    "fnames = ['cat.{}.jpg'.format(i) for i in range(1000, 1500)]\n",
    "for fname in fnames:\n",
    "    src = os.path.join(original_dataset_dir, fname)\n",
    "    dst = os.path.join(validation_cats_dir, fname)\n",
    "    shutil.copyfile(src, dst)\n",
    "    \n",
    "# Copy next 500 cat images to test_cats_dir\n",
    "fnames = ['cat.{}.jpg'.format(i) for i in range(1500, 2000)]\n",
    "for fname in fnames:\n",
    "    src = os.path.join(original_dataset_dir, fname)\n",
    "    dst = os.path.join(test_cats_dir, fname)\n",
    "    shutil.copyfile(src, dst)\n",
    "    \n",
    "# Copy first 1000 dog images to train_dogs_dir\n",
    "fnames = ['dog.{}.jpg'.format(i) for i in range(1000)]\n",
    "for fname in fnames:\n",
    "    src = os.path.join(original_dataset_dir, fname)\n",
    "    dst = os.path.join(train_dogs_dir, fname)\n",
    "    shutil.copyfile(src, dst)\n",
    "    \n",
    "# Copy next 500 dog images to validation_dogs_dir\n",
    "fnames = ['dog.{}.jpg'.format(i) for i in range(1000, 1500)]\n",
    "for fname in fnames:\n",
    "    src = os.path.join(original_dataset_dir, fname)\n",
    "    dst = os.path.join(validation_dogs_dir, fname)\n",
    "    shutil.copyfile(src, dst)\n",
    "    \n",
    "# Copy next 500 dog images to test_dogs_dir\n",
    "fnames = ['dog.{}.jpg'.format(i) for i in range(1500, 2000)]\n",
    "for fname in fnames:\n",
    "    src = os.path.join(original_dataset_dir, fname)\n",
    "    dst = os.path.join(test_dogs_dir, fname)\n",
    "    shutil.copyfile(src, dst)"
   ]
  },
  {
   "cell_type": "markdown",
   "metadata": {},
   "source": [
    "## <div style=\"direction:rtl;text-align:right;font-family:B Lotus, B Nazanin, Tahoma\"> برای بررسی صحت انجام کار تعداد تصاویرآموزشی/آزمون/توسعه را بررسی میکنیم.</div>\n"
   ]
  },
  {
   "cell_type": "code",
   "execution_count": 5,
   "metadata": {
    "scrolled": true
   },
   "outputs": [
    {
     "name": "stdout",
     "output_type": "stream",
     "text": [
      "total training cat images: 1000\n"
     ]
    }
   ],
   "source": [
    "print('total training cat images:', len(os.listdir(train_cats_dir)))"
   ]
  },
  {
   "cell_type": "code",
   "execution_count": 6,
   "metadata": {},
   "outputs": [
    {
     "name": "stdout",
     "output_type": "stream",
     "text": [
      "total training dog images: 1000\n"
     ]
    }
   ],
   "source": [
    "print('total training dog images:', len(os.listdir(train_dogs_dir)))"
   ]
  },
  {
   "cell_type": "code",
   "execution_count": 7,
   "metadata": {},
   "outputs": [
    {
     "name": "stdout",
     "output_type": "stream",
     "text": [
      "total validation cat images: 500\n"
     ]
    }
   ],
   "source": [
    "print('total validation cat images:', len(os.listdir(validation_cats_dir)))"
   ]
  },
  {
   "cell_type": "code",
   "execution_count": 8,
   "metadata": {},
   "outputs": [
    {
     "name": "stdout",
     "output_type": "stream",
     "text": [
      "total validation dog images: 500\n"
     ]
    }
   ],
   "source": [
    "print('total validation dog images:', len(os.listdir(validation_dogs_dir)))"
   ]
  },
  {
   "cell_type": "code",
   "execution_count": 9,
   "metadata": {},
   "outputs": [
    {
     "name": "stdout",
     "output_type": "stream",
     "text": [
      "total test cat images: 500\n"
     ]
    }
   ],
   "source": [
    "print('total test cat images:', len(os.listdir(test_cats_dir)))"
   ]
  },
  {
   "cell_type": "code",
   "execution_count": 10,
   "metadata": {},
   "outputs": [
    {
     "name": "stdout",
     "output_type": "stream",
     "text": [
      "total test dog images: 500\n"
     ]
    }
   ],
   "source": [
    "print('total test dog images:', len(os.listdir(test_dogs_dir)))"
   ]
  },
  {
   "cell_type": "markdown",
   "metadata": {},
   "source": [
    "<div style=\"direction:rtl;text-align:right;font-family:Tahoma\">\n",
    "با توجه به اینکه تعداد تصاویر یکسانی از سگ و گربه برداشته ایم معیار Accuracy معیارمناسبی برای ارزیابی خواهد بود.\n",
    "</div>"
   ]
  },
  {
   "cell_type": "markdown",
   "metadata": {},
   "source": [
    "## <div style=\"direction:rtl;text-align:right;font-family:B Lotus, B Nazanin, Tahoma\">تعریف معماری مدل (model architecture)</div>\n",
    "\n",
    "Since we are attacking a binary classification problem, we are ending the network with a single unit (a `Dense` layer of size 1) and a \n",
    "`sigmoid` activation. This unit will encode the probability that the network is looking at one class or the other."
   ]
  },
  {
   "cell_type": "code",
   "execution_count": 11,
   "metadata": {},
   "outputs": [],
   "source": [
    "from keras import layers\n",
    "from keras import models\n",
    "\n",
    "model = models.Sequential()\n",
    "model.add(layers.Conv2D(32, (3, 3), activation='relu',\n",
    "                        input_shape=(150, 150, 3)))\n",
    "model.add(layers.MaxPooling2D((2, 2)))\n",
    "model.add(layers.Conv2D(64, (3, 3), activation='relu'))\n",
    "model.add(layers.MaxPooling2D((2, 2)))\n",
    "model.add(layers.Conv2D(128, (3, 3), activation='relu'))\n",
    "model.add(layers.MaxPooling2D((2, 2)))\n",
    "model.add(layers.Conv2D(128, (3, 3), activation='relu'))\n",
    "model.add(layers.MaxPooling2D((2, 2)))\n",
    "model.add(layers.Flatten())\n",
    "model.add(layers.Dense(512, activation='relu'))\n",
    "model.add(layers.Dense(1, activation='sigmoid'))"
   ]
  },
  {
   "cell_type": "markdown",
   "metadata": {},
   "source": [
    "Let's take a look at how the dimensions of the feature maps change with every successive layer:"
   ]
  },
  {
   "cell_type": "code",
   "execution_count": 12,
   "metadata": {},
   "outputs": [
    {
     "name": "stdout",
     "output_type": "stream",
     "text": [
      "_________________________________________________________________\n",
      "Layer (type)                 Output Shape              Param #   \n",
      "=================================================================\n",
      "conv2d_1 (Conv2D)            (None, 148, 148, 32)      896       \n",
      "_________________________________________________________________\n",
      "max_pooling2d_1 (MaxPooling2 (None, 74, 74, 32)        0         \n",
      "_________________________________________________________________\n",
      "conv2d_2 (Conv2D)            (None, 72, 72, 64)        18496     \n",
      "_________________________________________________________________\n",
      "max_pooling2d_2 (MaxPooling2 (None, 36, 36, 64)        0         \n",
      "_________________________________________________________________\n",
      "conv2d_3 (Conv2D)            (None, 34, 34, 128)       73856     \n",
      "_________________________________________________________________\n",
      "max_pooling2d_3 (MaxPooling2 (None, 17, 17, 128)       0         \n",
      "_________________________________________________________________\n",
      "conv2d_4 (Conv2D)            (None, 15, 15, 128)       147584    \n",
      "_________________________________________________________________\n",
      "max_pooling2d_4 (MaxPooling2 (None, 7, 7, 128)         0         \n",
      "_________________________________________________________________\n",
      "flatten_1 (Flatten)          (None, 6272)              0         \n",
      "_________________________________________________________________\n",
      "dense_1 (Dense)              (None, 512)               3211776   \n",
      "_________________________________________________________________\n",
      "dense_2 (Dense)              (None, 1)                 513       \n",
      "=================================================================\n",
      "Total params: 3,453,121\n",
      "Trainable params: 3,453,121\n",
      "Non-trainable params: 0\n",
      "_________________________________________________________________\n"
     ]
    }
   ],
   "source": [
    "model.summary()"
   ]
  },
  {
   "cell_type": "markdown",
   "metadata": {},
   "source": [
    "For our compilation step, we'll go with the `RMSprop` optimizer as usual. Since we ended our network with a single sigmoid unit, we will \n",
    "use binary crossentropy as our loss (as a reminder, check out the table in Chapter 4, section 5 for a cheatsheet on what loss function to \n",
    "use in various situations)."
   ]
  },
  {
   "cell_type": "code",
   "execution_count": 14,
   "metadata": {},
   "outputs": [],
   "source": [
    "from keras import optimizers\n",
    "\n",
    "model.compile(loss='binary_crossentropy',\n",
    "              optimizer=optimizers.RMSprop(lr=1e-4),\n",
    "              metrics=['acc'])"
   ]
  },
  {
   "cell_type": "markdown",
   "metadata": {},
   "source": [
    "## <div style=\"direction:rtl;text-align:right;font-family:B Lotus, B Nazanin, Tahoma\">  پیش پردازش داده (Data preprocessing)</div>\n",
    "\n",
    "* Read the picture files.\n",
    "* Decode the JPEG content to RGB grids of pixels.\n",
    "* Convert these into floating point tensors.\n",
    "* Rescale the pixel values (between 0 and 255) to the [0, 1] interval (as you know, neural networks prefer to deal with small input values).\n",
    "\n",
    "It may seem a bit daunting, but thankfully Keras has utilities to take care of these steps automatically. Keras has a module with image \n",
    "processing helper tools, located at `keras.preprocessing.image`. In particular, it contains the class `ImageDataGenerator` which allows to \n",
    "quickly set up Python generators that can automatically turn image files on disk into batches of pre-processed tensors. This is what we \n",
    "will use here.\n",
    "\n",
    "<div style=\"direction:rtl;text-align:right;font-family:Tahoma\">\n",
    "    اطلاعات بیشتر در مستندات Keras :\n",
    "</div>\n",
    "\n",
    "`https://keras.io/preprocessing/image/`"
   ]
  },
  {
   "cell_type": "code",
   "execution_count": 15,
   "metadata": {},
   "outputs": [
    {
     "name": "stdout",
     "output_type": "stream",
     "text": [
      "Found 2000 images belonging to 2 classes.\n",
      "Found 1000 images belonging to 2 classes.\n"
     ]
    }
   ],
   "source": [
    "from keras.preprocessing.image import ImageDataGenerator\n",
    "\n",
    "# All images will be rescaled by 1./255\n",
    "train_datagen = ImageDataGenerator(rescale=1./255)\n",
    "test_datagen = ImageDataGenerator(rescale=1./255)\n",
    "\n",
    "train_generator = train_datagen.flow_from_directory(\n",
    "        # This is the target directory\n",
    "        train_dir,\n",
    "        # All images will be resized to 150x150\n",
    "        target_size=(150, 150),\n",
    "        batch_size=20,\n",
    "        # Since we use binary_crossentropy loss, we need binary labels\n",
    "        class_mode='binary')\n",
    "\n",
    "validation_generator = test_datagen.flow_from_directory(\n",
    "        validation_dir,\n",
    "        target_size=(150, 150),\n",
    "        batch_size=20,\n",
    "        class_mode='binary')"
   ]
  },
  {
   "cell_type": "markdown",
   "metadata": {},
   "source": [
    "Let's take a look at the output of one of these generators: it yields batches of 150x150 RGB images (shape `(20, 150, 150, 3)`) and binary \n",
    "labels (shape `(20,)`). 20 is the number of samples in each batch (the batch size). Note that the generator yields these batches \n",
    "indefinitely: it just loops endlessly over the images present in the target folder. For this reason, we need to `break` the iteration loop \n",
    "at some point."
   ]
  },
  {
   "cell_type": "code",
   "execution_count": 17,
   "metadata": {},
   "outputs": [
    {
     "name": "stdout",
     "output_type": "stream",
     "text": [
      "data batch shape: (20, 150, 150, 3)\n",
      "labels batch shape: (20,)\n"
     ]
    }
   ],
   "source": [
    "for data_batch, labels_batch in train_generator:\n",
    "    print('data batch shape:', data_batch.shape)\n",
    "    print('labels batch shape:', labels_batch.shape)\n",
    "    break"
   ]
  },
  {
   "cell_type": "code",
   "execution_count": null,
   "metadata": {
    "collapsed": true
   },
   "outputs": [],
   "source": []
  },
  {
   "cell_type": "markdown",
   "metadata": {},
   "source": [
    "Let's fit our model to the data using the generator. We do it using the `fit_generator` method, the equivalent of `fit` for data generators \n",
    "like ours. It expects as first argument a Python generator that will yield batches of inputs and targets indefinitely, like ours does. \n",
    "Because the data is being generated endlessly, the generator needs to know example how many samples to draw from the generator before \n",
    "declaring an epoch over. This is the role of the `steps_per_epoch` argument: after having drawn `steps_per_epoch` batches from the \n",
    "generator, i.e. after having run for `steps_per_epoch` gradient descent steps, the fitting process will go to the next epoch. In our case, \n",
    "batches are 20-sample large, so it will take 100 batches until we see our target of 2000 samples.\n",
    "\n",
    "When using `fit_generator`, one may pass a `validation_data` argument, much like with the `fit` method. Importantly, this argument is \n",
    "allowed to be a data generator itself, but it could be a tuple of Numpy arrays as well. If you pass a generator as `validation_data`, then \n",
    "this generator is expected to yield batches of validation data endlessly, and thus you should also specify the `validation_steps` argument, \n",
    "which tells the process how many batches to draw from the validation generator for evaluation."
   ]
  },
  {
   "cell_type": "code",
   "execution_count": 15,
   "metadata": {},
   "outputs": [
    {
     "name": "stdout",
     "output_type": "stream",
     "text": [
      "Epoch 1/30\n",
      "100/100 [==============================] - 10s 102ms/step - loss: 0.6871 - acc: 0.5430 - val_loss: 0.6706 - val_acc: 0.6100\n",
      "Epoch 2/30\n",
      "100/100 [==============================] - 7s 70ms/step - loss: 0.6580 - acc: 0.6055 - val_loss: 0.6514 - val_acc: 0.6050\n",
      "Epoch 3/30\n",
      "100/100 [==============================] - 7s 69ms/step - loss: 0.6075 - acc: 0.6705 - val_loss: 0.6088 - val_acc: 0.6720\n",
      "Epoch 4/30\n",
      "100/100 [==============================] - 7s 70ms/step - loss: 0.5648 - acc: 0.7120 - val_loss: 0.5990 - val_acc: 0.6760\n",
      "Epoch 5/30\n",
      "100/100 [==============================] - 7s 69ms/step - loss: 0.5386 - acc: 0.7240 - val_loss: 0.5730 - val_acc: 0.6970\n",
      "Epoch 6/30\n",
      "100/100 [==============================] - 7s 72ms/step - loss: 0.5051 - acc: 0.7520 - val_loss: 0.5722 - val_acc: 0.6890\n",
      "Epoch 7/30\n",
      "100/100 [==============================] - 7s 70ms/step - loss: 0.4834 - acc: 0.7710 - val_loss: 0.5501 - val_acc: 0.7100\n",
      "Epoch 8/30\n",
      "100/100 [==============================] - 7s 70ms/step - loss: 0.4528 - acc: 0.7895 - val_loss: 0.5634 - val_acc: 0.7190\n",
      "Epoch 9/30\n",
      "100/100 [==============================] - 7s 69ms/step - loss: 0.4284 - acc: 0.8035 - val_loss: 0.5988 - val_acc: 0.7000\n",
      "Epoch 10/30\n",
      "100/100 [==============================] - 7s 68ms/step - loss: 0.3983 - acc: 0.8230 - val_loss: 0.5738 - val_acc: 0.7190\n",
      "Epoch 11/30\n",
      "100/100 [==============================] - 7s 68ms/step - loss: 0.3780 - acc: 0.8310 - val_loss: 0.5705 - val_acc: 0.7150\n",
      "Epoch 12/30\n",
      "100/100 [==============================] - 7s 73ms/step - loss: 0.3460 - acc: 0.8575 - val_loss: 0.6450 - val_acc: 0.6910\n",
      "Epoch 13/30\n",
      "100/100 [==============================] - 7s 71ms/step - loss: 0.3268 - acc: 0.8635 - val_loss: 0.5959 - val_acc: 0.7060\n",
      "Epoch 14/30\n",
      "100/100 [==============================] - 7s 69ms/step - loss: 0.3011 - acc: 0.8665 - val_loss: 0.5675 - val_acc: 0.7310\n",
      "Epoch 15/30\n",
      "100/100 [==============================] - 7s 72ms/step - loss: 0.2830 - acc: 0.8875 - val_loss: 0.6103 - val_acc: 0.7340\n",
      "Epoch 16/30\n",
      "100/100 [==============================] - 7s 71ms/step - loss: 0.2567 - acc: 0.8945 - val_loss: 0.6139 - val_acc: 0.7270\n",
      "Epoch 17/30\n",
      "100/100 [==============================] - 7s 70ms/step - loss: 0.2354 - acc: 0.9070 - val_loss: 0.6243 - val_acc: 0.7310\n",
      "Epoch 18/30\n",
      "100/100 [==============================] - 7s 70ms/step - loss: 0.2176 - acc: 0.9215 - val_loss: 0.6302 - val_acc: 0.7340\n",
      "Epoch 19/30\n",
      "100/100 [==============================] - 7s 67ms/step - loss: 0.2015 - acc: 0.9300 - val_loss: 0.6495 - val_acc: 0.7320\n",
      "Epoch 20/30\n",
      "100/100 [==============================] - 7s 70ms/step - loss: 0.1784 - acc: 0.9380 - val_loss: 0.7170 - val_acc: 0.7170\n",
      "Epoch 21/30\n",
      "100/100 [==============================] - 7s 72ms/step - loss: 0.1616 - acc: 0.9365 - val_loss: 0.7690 - val_acc: 0.7180\n",
      "Epoch 22/30\n",
      "100/100 [==============================] - 7s 69ms/step - loss: 0.1368 - acc: 0.9515 - val_loss: 0.7477 - val_acc: 0.7330\n",
      "Epoch 23/30\n",
      "100/100 [==============================] - 7s 71ms/step - loss: 0.1200 - acc: 0.9620 - val_loss: 0.7869 - val_acc: 0.7210\n",
      "Epoch 24/30\n",
      "100/100 [==============================] - 7s 69ms/step - loss: 0.1113 - acc: 0.9620 - val_loss: 0.7754 - val_acc: 0.7280\n",
      "Epoch 25/30\n",
      "100/100 [==============================] - 7s 72ms/step - loss: 0.0951 - acc: 0.9680 - val_loss: 0.9000 - val_acc: 0.7020\n",
      "Epoch 26/30\n",
      "100/100 [==============================] - 7s 70ms/step - loss: 0.0791 - acc: 0.9760 - val_loss: 0.8489 - val_acc: 0.7210\n",
      "Epoch 27/30\n",
      "100/100 [==============================] - 7s 71ms/step - loss: 0.0692 - acc: 0.9795 - val_loss: 0.8719 - val_acc: 0.7340\n",
      "Epoch 28/30\n",
      "100/100 [==============================] - 7s 70ms/step - loss: 0.0596 - acc: 0.9840 - val_loss: 0.9885 - val_acc: 0.7340\n",
      "Epoch 29/30\n",
      "100/100 [==============================] - 7s 70ms/step - loss: 0.0539 - acc: 0.9820 - val_loss: 0.9648 - val_acc: 0.7420\n",
      "Epoch 30/30\n",
      "100/100 [==============================] - 7s 70ms/step - loss: 0.0411 - acc: 0.9880 - val_loss: 1.1923 - val_acc: 0.7140\n"
     ]
    }
   ],
   "source": [
    "history = model.fit_generator(\n",
    "      train_generator,\n",
    "      steps_per_epoch=100,\n",
    "      epochs=30,\n",
    "      validation_data=validation_generator,\n",
    "      validation_steps=50)"
   ]
  },
  {
   "cell_type": "markdown",
   "metadata": {},
   "source": [
    "Let's plot the loss and accuracy of the model over the training and validation data during training:"
   ]
  },
  {
   "cell_type": "code",
   "execution_count": 16,
   "metadata": {},
   "outputs": [
    {
     "data": {
      "image/png": "[encoded data removed]",
      "text/plain": [
       "<Figure size 432x288 with 1 Axes>"
      ]
     },
     "metadata": {},
     "output_type": "display_data"
    },
    {
     "data": {
      "image/png": "[encoded data removed]",
      "text/plain": [
       "<Figure size 432x288 with 1 Axes>"
      ]
     },
     "metadata": {},
     "output_type": "display_data"
    }
   ],
   "source": [
    "import matplotlib.pyplot as plt\n",
    "%matplotlib inline\n",
    "acc = history.history['acc']\n",
    "val_acc = history.history['val_acc']\n",
    "loss = history.history['loss']\n",
    "val_loss = history.history['val_loss']\n",
    "\n",
    "epochs = range(len(acc))\n",
    "\n",
    "plt.plot(epochs, acc, 'bo', label='Training acc')\n",
    "plt.plot(epochs, val_acc, 'b', label='Validation acc')\n",
    "plt.title('Training and validation accuracy')\n",
    "plt.legend()\n",
    "\n",
    "plt.figure()\n",
    "\n",
    "plt.plot(epochs, loss, 'bo', label='Training loss')\n",
    "plt.plot(epochs, val_loss, 'b', label='Validation loss')\n",
    "plt.title('Training and validation loss')\n",
    "plt.legend()\n",
    "\n",
    "plt.show()"
   ]
  },
  {
   "cell_type": "markdown",
   "metadata": {},
   "source": [
    "These plots are characteristic of overfitting. Our training accuracy increases linearly over time, until it reaches nearly 100%, while our \n",
    "validation accuracy stalls at 70-72%. Our validation loss reaches its minimum after only five epochs then stalls, while the training loss \n",
    "keeps decreasing linearly until it reaches nearly 0.\n",
    "\n",
    "Because we only have relatively few training samples (2000), overfitting is going to be our number one concern.\n",
    "Let's train our network using data augmentation and dropout:"
   ]
  },
  {
   "cell_type": "markdown",
   "metadata": {},
   "source": [
    "## <div style=\"direction:rtl;text-align:right;font-family:B Lotus, B Nazanin, Tahoma\">شبکه با Dropout</div>"
   ]
  },
  {
   "cell_type": "code",
   "execution_count": 17,
   "metadata": {},
   "outputs": [
    {
     "name": "stdout",
     "output_type": "stream",
     "text": [
      "Epoch 1/100\n",
      "100/100 [==============================] - 8s 76ms/step - loss: 0.6894 - acc: 0.5270 - val_loss: 0.6944 - val_acc: 0.5140\n",
      "Epoch 2/100\n",
      "100/100 [==============================] - 7s 71ms/step - loss: 0.6607 - acc: 0.6160 - val_loss: 0.7345 - val_acc: 0.5090\n",
      "Epoch 3/100\n",
      "100/100 [==============================] - 7s 73ms/step - loss: 0.6228 - acc: 0.6675 - val_loss: 0.6389 - val_acc: 0.6400\n",
      "Epoch 4/100\n",
      "100/100 [==============================] - 7s 71ms/step - loss: 0.5889 - acc: 0.6920 - val_loss: 0.6212 - val_acc: 0.6430\n",
      "Epoch 5/100\n",
      "100/100 [==============================] - 7s 73ms/step - loss: 0.5648 - acc: 0.7020 - val_loss: 0.7128 - val_acc: 0.6060\n",
      "Epoch 6/100\n",
      "100/100 [==============================] - 7s 65ms/step - loss: 0.5428 - acc: 0.7225 - val_loss: 0.5864 - val_acc: 0.6840\n",
      "Epoch 7/100\n",
      "100/100 [==============================] - 7s 72ms/step - loss: 0.5207 - acc: 0.7430 - val_loss: 0.5631 - val_acc: 0.7090\n",
      "Epoch 8/100\n",
      "100/100 [==============================] - 7s 72ms/step - loss: 0.5000 - acc: 0.7625 - val_loss: 0.5413 - val_acc: 0.7160\n",
      "Epoch 9/100\n",
      "100/100 [==============================] - 7s 71ms/step - loss: 0.4690 - acc: 0.7725 - val_loss: 0.5477 - val_acc: 0.7170\n",
      "Epoch 10/100\n",
      "100/100 [==============================] - 7s 73ms/step - loss: 0.4568 - acc: 0.7830 - val_loss: 0.5365 - val_acc: 0.7260\n",
      "Epoch 11/100\n",
      "100/100 [==============================] - 7s 70ms/step - loss: 0.4356 - acc: 0.7880 - val_loss: 0.5359 - val_acc: 0.7310\n",
      "Epoch 12/100\n",
      "100/100 [==============================] - 8s 76ms/step - loss: 0.4102 - acc: 0.8115 - val_loss: 0.5324 - val_acc: 0.7340\n",
      "Epoch 13/100\n",
      "100/100 [==============================] - 7s 73ms/step - loss: 0.4182 - acc: 0.8090 - val_loss: 0.6073 - val_acc: 0.7150\n",
      "Epoch 14/100\n",
      "100/100 [==============================] - 7s 74ms/step - loss: 0.3874 - acc: 0.8295 - val_loss: 0.5400 - val_acc: 0.7290\n",
      "Epoch 15/100\n",
      "100/100 [==============================] - 7s 69ms/step - loss: 0.3835 - acc: 0.8280 - val_loss: 0.5678 - val_acc: 0.7240\n",
      "Epoch 16/100\n",
      "100/100 [==============================] - 7s 72ms/step - loss: 0.3553 - acc: 0.8455 - val_loss: 0.5252 - val_acc: 0.7450\n",
      "Epoch 17/100\n",
      "100/100 [==============================] - 7s 70ms/step - loss: 0.3465 - acc: 0.8460 - val_loss: 0.6187 - val_acc: 0.7160\n",
      "Epoch 18/100\n",
      "100/100 [==============================] - 7s 70ms/step - loss: 0.3232 - acc: 0.8640 - val_loss: 0.5143 - val_acc: 0.7550\n",
      "Epoch 19/100\n",
      "100/100 [==============================] - 7s 74ms/step - loss: 0.3166 - acc: 0.8670 - val_loss: 0.5109 - val_acc: 0.7500\n",
      "Epoch 20/100\n",
      "100/100 [==============================] - 7s 71ms/step - loss: 0.2992 - acc: 0.8735 - val_loss: 0.5157 - val_acc: 0.7600\n",
      "Epoch 21/100\n",
      "100/100 [==============================] - 7s 70ms/step - loss: 0.2959 - acc: 0.8760 - val_loss: 0.6084 - val_acc: 0.7410\n",
      "Epoch 22/100\n",
      "100/100 [==============================] - 6s 64ms/step - loss: 0.2766 - acc: 0.8880 - val_loss: 0.5935 - val_acc: 0.7410\n",
      "Epoch 23/100\n",
      "100/100 [==============================] - 7s 71ms/step - loss: 0.2722 - acc: 0.8820 - val_loss: 0.5240 - val_acc: 0.7600\n",
      "Epoch 24/100\n",
      "100/100 [==============================] - 8s 76ms/step - loss: 0.2446 - acc: 0.9040 - val_loss: 0.6517 - val_acc: 0.7340\n",
      "Epoch 25/100\n",
      "100/100 [==============================] - 7s 74ms/step - loss: 0.2330 - acc: 0.9130 - val_loss: 0.5708 - val_acc: 0.7520\n",
      "Epoch 26/100\n",
      "100/100 [==============================] - 8s 75ms/step - loss: 0.2248 - acc: 0.9070 - val_loss: 0.5257 - val_acc: 0.7700\n",
      "Epoch 27/100\n",
      "100/100 [==============================] - 7s 71ms/step - loss: 0.2201 - acc: 0.9150 - val_loss: 0.5735 - val_acc: 0.7620\n",
      "Epoch 28/100\n",
      "100/100 [==============================] - 7s 67ms/step - loss: 0.2094 - acc: 0.9190 - val_loss: 0.5637 - val_acc: 0.7540\n",
      "Epoch 29/100\n",
      "100/100 [==============================] - 8s 76ms/step - loss: 0.2076 - acc: 0.9205 - val_loss: 0.5866 - val_acc: 0.7610\n",
      "Epoch 30/100\n",
      "100/100 [==============================] - 7s 71ms/step - loss: 0.1827 - acc: 0.9340 - val_loss: 0.6123 - val_acc: 0.7560\n",
      "Epoch 31/100\n",
      "100/100 [==============================] - 7s 70ms/step - loss: 0.1817 - acc: 0.9280 - val_loss: 0.6017 - val_acc: 0.7560\n",
      "Epoch 32/100\n",
      "100/100 [==============================] - 7s 72ms/step - loss: 0.1704 - acc: 0.9315 - val_loss: 0.5948 - val_acc: 0.7600\n",
      "Epoch 33/100\n",
      "100/100 [==============================] - 8s 75ms/step - loss: 0.1663 - acc: 0.9355 - val_loss: 0.6496 - val_acc: 0.7560\n",
      "Epoch 34/100\n",
      "100/100 [==============================] - 7s 66ms/step - loss: 0.1591 - acc: 0.9370 - val_loss: 0.6076 - val_acc: 0.7620\n",
      "Epoch 35/100\n",
      "100/100 [==============================] - 7s 74ms/step - loss: 0.1461 - acc: 0.9485 - val_loss: 0.6325 - val_acc: 0.7640\n",
      "Epoch 36/100\n",
      "100/100 [==============================] - 7s 70ms/step - loss: 0.1459 - acc: 0.9440 - val_loss: 0.5963 - val_acc: 0.7760\n",
      "Epoch 37/100\n",
      "100/100 [==============================] - 7s 73ms/step - loss: 0.1234 - acc: 0.9535 - val_loss: 0.7266 - val_acc: 0.7470\n",
      "Epoch 38/100\n",
      "100/100 [==============================] - 7s 70ms/step - loss: 0.1391 - acc: 0.9445 - val_loss: 0.6515 - val_acc: 0.7570\n",
      "Epoch 39/100\n",
      "100/100 [==============================] - 8s 76ms/step - loss: 0.1280 - acc: 0.9570 - val_loss: 0.6692 - val_acc: 0.7570\n",
      "Epoch 40/100\n",
      "100/100 [==============================] - 7s 73ms/step - loss: 0.1138 - acc: 0.9600 - val_loss: 0.6916 - val_acc: 0.7650\n",
      "Epoch 41/100\n",
      "100/100 [==============================] - 7s 74ms/step - loss: 0.1084 - acc: 0.9645 - val_loss: 0.6601 - val_acc: 0.7640\n",
      "Epoch 42/100\n",
      "100/100 [==============================] - 7s 70ms/step - loss: 0.1071 - acc: 0.9630 - val_loss: 0.7389 - val_acc: 0.7470\n",
      "Epoch 43/100\n",
      "100/100 [==============================] - 7s 73ms/step - loss: 0.1084 - acc: 0.9570 - val_loss: 0.6990 - val_acc: 0.7650\n",
      "Epoch 44/100\n",
      "100/100 [==============================] - 7s 72ms/step - loss: 0.1045 - acc: 0.9660 - val_loss: 0.7916 - val_acc: 0.7490\n",
      "Epoch 45/100\n",
      "100/100 [==============================] - 7s 71ms/step - loss: 0.0898 - acc: 0.9685 - val_loss: 0.7113 - val_acc: 0.7720\n",
      "Epoch 46/100\n",
      "100/100 [==============================] - 7s 74ms/step - loss: 0.0993 - acc: 0.9620 - val_loss: 0.7143 - val_acc: 0.7710\n",
      "Epoch 47/100\n",
      "100/100 [==============================] - 7s 70ms/step - loss: 0.0807 - acc: 0.9720 - val_loss: 0.7336 - val_acc: 0.7670\n",
      "Epoch 48/100\n",
      "100/100 [==============================] - 7s 73ms/step - loss: 0.0923 - acc: 0.9670 - val_loss: 0.7492 - val_acc: 0.7540\n",
      "Epoch 49/100\n",
      "100/100 [==============================] - 8s 76ms/step - loss: 0.0791 - acc: 0.9725 - val_loss: 0.8292 - val_acc: 0.7680\n",
      "Epoch 50/100\n",
      "100/100 [==============================] - 7s 72ms/step - loss: 0.0799 - acc: 0.9720 - val_loss: 0.8038 - val_acc: 0.7630\n",
      "Epoch 51/100\n",
      "100/100 [==============================] - 7s 70ms/step - loss: 0.0786 - acc: 0.9715 - val_loss: 0.7994 - val_acc: 0.7650\n",
      "Epoch 52/100\n",
      "100/100 [==============================] - 7s 72ms/step - loss: 0.0595 - acc: 0.9805 - val_loss: 0.8475 - val_acc: 0.7630\n",
      "Epoch 53/100\n",
      "100/100 [==============================] - 7s 74ms/step - loss: 0.0658 - acc: 0.9770 - val_loss: 0.8780 - val_acc: 0.7530\n",
      "Epoch 54/100\n",
      "100/100 [==============================] - 8s 75ms/step - loss: 0.0624 - acc: 0.9765 - val_loss: 0.7878 - val_acc: 0.7580\n",
      "Epoch 55/100\n",
      "100/100 [==============================] - 7s 73ms/step - loss: 0.0535 - acc: 0.9815 - val_loss: 0.8381 - val_acc: 0.7610\n",
      "Epoch 56/100\n",
      "100/100 [==============================] - 7s 69ms/step - loss: 0.0596 - acc: 0.9780 - val_loss: 0.8023 - val_acc: 0.7680\n",
      "Epoch 57/100\n",
      "100/100 [==============================] - 8s 75ms/step - loss: 0.0631 - acc: 0.9805 - val_loss: 0.8999 - val_acc: 0.7570\n",
      "Epoch 58/100\n",
      "100/100 [==============================] - 7s 69ms/step - loss: 0.0535 - acc: 0.9830 - val_loss: 0.9586 - val_acc: 0.7510\n",
      "Epoch 59/100\n",
      "100/100 [==============================] - 6s 65ms/step - loss: 0.0523 - acc: 0.9800 - val_loss: 0.9511 - val_acc: 0.7570\n",
      "Epoch 60/100\n",
      "100/100 [==============================] - 7s 72ms/step - loss: 0.0507 - acc: 0.9810 - val_loss: 1.0322 - val_acc: 0.7550\n",
      "Epoch 61/100\n",
      "100/100 [==============================] - 7s 71ms/step - loss: 0.0542 - acc: 0.9800 - val_loss: 0.8776 - val_acc: 0.7590\n",
      "Epoch 62/100\n",
      "100/100 [==============================] - 7s 72ms/step - loss: 0.0547 - acc: 0.9810 - val_loss: 0.8419 - val_acc: 0.7670\n",
      "Epoch 63/100\n",
      "100/100 [==============================] - 7s 71ms/step - loss: 0.0485 - acc: 0.9810 - val_loss: 0.8661 - val_acc: 0.7730\n",
      "Epoch 64/100\n",
      "100/100 [==============================] - 7s 69ms/step - loss: 0.0427 - acc: 0.9865 - val_loss: 0.9159 - val_acc: 0.7590\n",
      "Epoch 65/100\n",
      "100/100 [==============================] - 7s 70ms/step - loss: 0.0567 - acc: 0.9780 - val_loss: 0.9303 - val_acc: 0.7580\n",
      "Epoch 66/100\n",
      "100/100 [==============================] - 7s 69ms/step - loss: 0.0465 - acc: 0.9835 - val_loss: 0.9343 - val_acc: 0.7530\n",
      "Epoch 67/100\n",
      "100/100 [==============================] - 7s 72ms/step - loss: 0.0407 - acc: 0.9840 - val_loss: 0.9852 - val_acc: 0.7570\n",
      "Epoch 68/100\n",
      "100/100 [==============================] - 7s 74ms/step - loss: 0.0455 - acc: 0.9840 - val_loss: 0.9251 - val_acc: 0.7600\n",
      "Epoch 69/100\n",
      "100/100 [==============================] - 7s 70ms/step - loss: 0.0358 - acc: 0.9890 - val_loss: 1.0259 - val_acc: 0.7530\n",
      "Epoch 70/100\n",
      "100/100 [==============================] - 7s 71ms/step - loss: 0.0392 - acc: 0.9865 - val_loss: 1.0112 - val_acc: 0.7540\n",
      "Epoch 71/100\n",
      "100/100 [==============================] - 7s 70ms/step - loss: 0.0382 - acc: 0.9855 - val_loss: 1.0240 - val_acc: 0.7520\n",
      "Epoch 72/100\n",
      "100/100 [==============================] - 7s 71ms/step - loss: 0.0456 - acc: 0.9825 - val_loss: 1.0001 - val_acc: 0.7630\n",
      "Epoch 73/100\n",
      "100/100 [==============================] - 7s 69ms/step - loss: 0.0364 - acc: 0.9860 - val_loss: 1.0619 - val_acc: 0.7650\n",
      "Epoch 74/100\n",
      "100/100 [==============================] - 7s 69ms/step - loss: 0.0367 - acc: 0.9850 - val_loss: 1.0581 - val_acc: 0.7650\n",
      "Epoch 75/100\n",
      "100/100 [==============================] - 7s 72ms/step - loss: 0.0267 - acc: 0.9895 - val_loss: 0.9538 - val_acc: 0.7720\n",
      "Epoch 76/100\n",
      "100/100 [==============================] - 7s 69ms/step - loss: 0.0366 - acc: 0.9900 - val_loss: 1.0046 - val_acc: 0.7780\n",
      "Epoch 77/100\n",
      "100/100 [==============================] - 7s 70ms/step - loss: 0.0402 - acc: 0.9850 - val_loss: 0.9360 - val_acc: 0.7790\n",
      "Epoch 78/100\n",
      "100/100 [==============================] - 7s 72ms/step - loss: 0.0352 - acc: 0.9900 - val_loss: 1.0473 - val_acc: 0.7550\n",
      "Epoch 79/100\n",
      "100/100 [==============================] - 7s 70ms/step - loss: 0.0399 - acc: 0.9865 - val_loss: 1.0465 - val_acc: 0.7650\n",
      "Epoch 80/100\n",
      "100/100 [==============================] - 7s 72ms/step - loss: 0.0224 - acc: 0.9925 - val_loss: 1.0899 - val_acc: 0.7620\n",
      "Epoch 81/100\n",
      "100/100 [==============================] - 7s 70ms/step - loss: 0.0364 - acc: 0.9860 - val_loss: 0.9956 - val_acc: 0.7590\n",
      "Epoch 82/100\n",
      "100/100 [==============================] - 7s 71ms/step - loss: 0.0263 - acc: 0.9930 - val_loss: 1.0581 - val_acc: 0.7750\n",
      "Epoch 83/100\n",
      "100/100 [==============================] - 7s 69ms/step - loss: 0.0262 - acc: 0.9900 - val_loss: 0.9802 - val_acc: 0.7780\n",
      "Epoch 84/100\n",
      "100/100 [==============================] - 7s 72ms/step - loss: 0.0342 - acc: 0.9885 - val_loss: 1.0599 - val_acc: 0.7700\n",
      "Epoch 85/100\n",
      "100/100 [==============================] - 7s 72ms/step - loss: 0.0252 - acc: 0.9915 - val_loss: 1.0681 - val_acc: 0.7780\n",
      "Epoch 86/100\n",
      "100/100 [==============================] - 7s 71ms/step - loss: 0.0292 - acc: 0.9915 - val_loss: 1.1017 - val_acc: 0.7670\n",
      "Epoch 87/100\n",
      "100/100 [==============================] - 7s 72ms/step - loss: 0.0336 - acc: 0.9885 - val_loss: 1.0666 - val_acc: 0.7690\n",
      "Epoch 88/100\n",
      "100/100 [==============================] - 8s 76ms/step - loss: 0.0289 - acc: 0.9880 - val_loss: 1.1479 - val_acc: 0.7730\n",
      "Epoch 89/100\n",
      "100/100 [==============================] - 8s 75ms/step - loss: 0.0330 - acc: 0.9890 - val_loss: 1.1886 - val_acc: 0.7650\n",
      "Epoch 90/100\n",
      "100/100 [==============================] - 7s 71ms/step - loss: 0.0305 - acc: 0.9890 - val_loss: 1.1070 - val_acc: 0.7640\n",
      "Epoch 91/100\n",
      "100/100 [==============================] - 7s 70ms/step - loss: 0.0294 - acc: 0.9895 - val_loss: 1.0466 - val_acc: 0.7720\n",
      "Epoch 92/100\n",
      "100/100 [==============================] - 7s 74ms/step - loss: 0.0219 - acc: 0.9930 - val_loss: 1.0923 - val_acc: 0.7710\n",
      "Epoch 93/100\n",
      "100/100 [==============================] - 7s 71ms/step - loss: 0.0264 - acc: 0.9905 - val_loss: 1.2646 - val_acc: 0.7570\n",
      "Epoch 94/100\n",
      "100/100 [==============================] - 6s 65ms/step - loss: 0.0272 - acc: 0.9890 - val_loss: 1.1050 - val_acc: 0.7730\n",
      "Epoch 95/100\n",
      "100/100 [==============================] - 7s 70ms/step - loss: 0.0282 - acc: 0.9905 - val_loss: 1.1346 - val_acc: 0.7680\n",
      "Epoch 96/100\n",
      "100/100 [==============================] - 7s 71ms/step - loss: 0.0249 - acc: 0.9900 - val_loss: 1.0549 - val_acc: 0.7660\n",
      "Epoch 97/100\n",
      "100/100 [==============================] - 7s 67ms/step - loss: 0.0256 - acc: 0.9910 - val_loss: 1.2847 - val_acc: 0.7550\n",
      "Epoch 98/100\n",
      "100/100 [==============================] - 7s 70ms/step - loss: 0.0198 - acc: 0.9945 - val_loss: 1.1909 - val_acc: 0.7830\n",
      "Epoch 99/100\n",
      "100/100 [==============================] - 7s 69ms/step - loss: 0.0320 - acc: 0.9900 - val_loss: 1.1163 - val_acc: 0.7730\n",
      "Epoch 100/100\n",
      "100/100 [==============================] - 7s 71ms/step - loss: 0.0219 - acc: 0.9925 - val_loss: 1.4962 - val_acc: 0.7470\n"
     ]
    }
   ],
   "source": [
    "model = models.Sequential()\n",
    "model.add(layers.Conv2D(32, (3, 3), activation='relu',\n",
    "                        input_shape=(150, 150, 3)))\n",
    "model.add(layers.MaxPooling2D((2, 2)))\n",
    "model.add(layers.Conv2D(64, (3, 3), activation='relu'))\n",
    "model.add(layers.MaxPooling2D((2, 2)))\n",
    "model.add(layers.Conv2D(128, (3, 3), activation='relu'))\n",
    "model.add(layers.MaxPooling2D((2, 2)))\n",
    "model.add(layers.Conv2D(128, (3, 3), activation='relu'))\n",
    "model.add(layers.MaxPooling2D((2, 2)))\n",
    "model.add(layers.Flatten())\n",
    "model.add(layers.Dropout(0.5))\n",
    "model.add(layers.Dense(512, activation='relu'))\n",
    "model.add(layers.Dense(1, activation='sigmoid'))\n",
    "\n",
    "model.compile(loss='binary_crossentropy',\n",
    "              optimizer=optimizers.RMSprop(lr=1e-4),\n",
    "              metrics=['acc'])\n",
    "\n",
    "history = model.fit_generator(\n",
    "      train_generator,\n",
    "      steps_per_epoch=100,\n",
    "      epochs=100,\n",
    "      validation_data=validation_generator,\n",
    "      validation_steps=50)"
   ]
  },
  {
   "cell_type": "markdown",
   "metadata": {},
   "source": [
    "Let's plot our results again:"
   ]
  },
  {
   "cell_type": "code",
   "execution_count": 18,
   "metadata": {},
   "outputs": [
    {
     "data": {
      "image/png": "[encoded data removed]",
      "text/plain": [
       "<Figure size 432x288 with 1 Axes>"
      ]
     },
     "metadata": {},
     "output_type": "display_data"
    },
    {
     "data": {
      "image/png": "[encoded data removed]",
      "text/plain": [
       "<Figure size 432x288 with 1 Axes>"
      ]
     },
     "metadata": {},
     "output_type": "display_data"
    }
   ],
   "source": [
    "acc = history.history['acc']\n",
    "val_acc = history.history['val_acc']\n",
    "loss = history.history['loss']\n",
    "val_loss = history.history['val_loss']\n",
    "\n",
    "epochs = range(len(acc))\n",
    "\n",
    "plt.plot(epochs, acc, 'bo', label='Training acc')\n",
    "plt.plot(epochs, val_acc, 'b', label='Validation acc')\n",
    "plt.title('Training and validation accuracy')\n",
    "plt.legend()\n",
    "\n",
    "plt.figure()\n",
    "\n",
    "plt.plot(epochs, loss, 'bo', label='Training loss')\n",
    "plt.plot(epochs, val_loss, 'b', label='Validation loss')\n",
    "plt.title('Training and validation loss')\n",
    "plt.legend()\n",
    "\n",
    "plt.show()"
   ]
  },
  {
   "cell_type": "markdown",
   "metadata": {},
   "source": [
    "## <div style=\"direction:rtl;text-align:right;font-family:B Lotus, B Nazanin, Tahoma\">ذخیره کردن مدل</div>\n"
   ]
  },
  {
   "cell_type": "code",
   "execution_count": 19,
   "metadata": {
    "collapsed": true
   },
   "outputs": [],
   "source": [
    "model.save('cats_and_dogs_small_1.h5')"
   ]
  },
  {
   "cell_type": "markdown",
   "metadata": {},
   "source": [
    "<div class=\"alert alert-block alert-info\">\n",
    "<div style=\"direction:rtl;text-align:right;font-family:B Lotus, B Nazanin, Tahoma\"> دوره مقدماتی یادگیری عمیق<br>علیرضا اخوان پور<br>  23 و 30 آبان 1397<br>\n",
    "</div>\n",
    "<a href=\"http://class.vision\">Class.Vision</a> - <a href=\"http://AkhavanPour.ir\">AkhavanPour.ir</a> - <a href=\"https://github.com/Alireza-Akhavan/\">GitHub</a>\n",
    "\n",
    "</div>"
   ]
  },
  {
   "cell_type": "code",
   "execution_count": null,
   "metadata": {},
   "outputs": [],
   "source": []
  }
 ],
 "metadata": {
  "anaconda-cloud": {},
  "kernelspec": {
   "display_name": "Python 3",
   "language": "python",
   "name": "python3"
  },
  "language_info": {
   "codemirror_mode": {
    "name": "ipython",
    "version": 3
   },
   "file_extension": ".py",
   "mimetype": "text/x-python",
   "name": "python",
   "nbconvert_exporter": "python",
   "pygments_lexer": "ipython3",
   "version": "3.6.6"
  }
 },
 "nbformat": 4,
 "nbformat_minor": 2
}
